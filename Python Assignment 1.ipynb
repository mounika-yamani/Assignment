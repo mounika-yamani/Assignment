{
 "cells": [
  {
   "cell_type": "code",
   "execution_count": 2,
   "metadata": {},
   "outputs": [
    {
     "name": "stdout",
     "output_type": "stream",
     "text": [
      "2030 ,2065 ,2100 ,2135 ,2170 ,2205 ,2240 ,2275 ,2310 ,2345 ,2380 ,2415 ,2450 ,2485 ,2520 ,2555 ,2590 ,2625 ,2660 ,2695 ,2730 ,2765 ,2800 ,2835 ,2870 ,2905 ,2940 ,2975 ,3010 ,3045 ,3080 ,3115 ,3150 ,3185 ,"
     ]
    }
   ],
   "source": [
    "#Question no.1\n",
    "for x in range(2000,3200):\n",
    "    if (x%7 == 0) and (x%5 == 0):\n",
    "        print(x, ',', end = '')"
   ]
  },
  {
   "cell_type": "code",
   "execution_count": 8,
   "metadata": {},
   "outputs": [
    {
     "name": "stdout",
     "output_type": "stream",
     "text": [
      "first nameSudheer\n",
      "last nameGunisetty\n",
      "reehduS  yttesinuG\n"
     ]
    }
   ],
   "source": [
    "#Question no.2\n",
    "first_name = input('first name')\n",
    "last_name = input('last name')\n",
    "print (first_name[::-1],'' ,last_name[::-1])"
   ]
  },
  {
   "cell_type": "code",
   "execution_count": 10,
   "metadata": {},
   "outputs": [
    {
     "name": "stdout",
     "output_type": "stream",
     "text": [
      "904.3199999999999\n"
     ]
    }
   ],
   "source": [
    "#Question no.3\n",
    "d = 12\n",
    "r = d/2\n",
    "v = 4/3 * 3.14 * r**3\n",
    "print(v)"
   ]
  }
 ],
 "metadata": {
  "kernelspec": {
   "display_name": "Python 3",
   "language": "python",
   "name": "python3"
  }
 },
 "nbformat": 4,
 "nbformat_minor": 4
}
